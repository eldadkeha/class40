{
 "cells": [
  {
   "cell_type": "code",
   "execution_count": 1,
   "id": "65a6e163-ec07-4660-b368-f394ece2e7cf",
   "metadata": {},
   "outputs": [
    {
     "data": {
      "application/vnd.jupyter.widget-view+json": {
       "model_id": "bfa871fa7c324e4885f987cb0dda204e",
       "version_major": 2,
       "version_minor": 0
      },
      "text/plain": [
       "interactive(children=(FloatSlider(value=70.0, description='Mean A', layout=Layout(width='450px'), min=1.0, rea…"
      ]
     },
     "metadata": {},
     "output_type": "display_data"
    }
   ],
   "source": [
    "# nbi:hide_in \n",
    "import pandas as pd\n",
    "import seaborn as sns\n",
    "import numpy as np\n",
    "import matplotlib.pyplot as plt\n",
    "from ipywidgets import interact, interactive, fixed, interact_manual, Layout, interactive_output, HBox, VBox\n",
    "import ipywidgets as widgets\n",
    "import random\n",
    "from random import choices\n",
    "from scipy import stats\n",
    "from IPython.display import HTML\n",
    "from scipy.stats import norm\n",
    "import scipy.stats\n",
    "import math\n",
    "\n",
    "sns.set(font=\"serif\", style = \"white\")\n",
    "\n",
    "def SamplingDist(meanA = 70,stdA = 10,sizeA=12, meanB = 70,stdB=10,sizeB=12):\n",
    "    np.random.seed(5)\n",
    "    tdist =  np.zeros(20000)\n",
    "    dist1 = np.random.normal(meanA, stdA, 10000)\n",
    "    dist2 = np.random.normal(meanB, stdB, 10000)\n",
    "    for i in range(20000):\n",
    "        rsa = random.choices(dist1, k=sizeA)\n",
    "        rsb = random.choices(dist2, k=sizeB)\n",
    "        tdist[i] = ((np.mean(rsa)-np.mean(rsb))) / ((math.sqrt(((np.var(rsa) * (sizeA)) + ((np.var(rsb)) * ((sizeB)))) / ((sizeA + sizeB - 2)))) * (math.sqrt((sizeA+sizeB)/(sizeA*sizeB))))\n",
    "        typeI = np.percentile(tdist,100-0.05*100) \n",
    "    print(tdist)\n",
    "    \n",
    "    fig,(ax3)=plt.subplots(nrows=1, ncols=1,figsize=(15,7))\n",
    "    plt.yticks(fontsize = 0, color = \"w\")\n",
    "    plt.yticks(fontsize = 0, color = \"w\")\n",
    "    ax3.hist(tdist, bins=12,color=\"silver\");\n",
    "    ax3.axvline(x = typeI, color = \"black\", linestyle = \"--\", label = \"The Criterion de facto\")\n",
    "    ax3.axvline(x = scipy.stats.t.ppf(q=.95,df=sizeA+sizeB), color = \"brown\", linestyle = \"--\", label = \"Real Criterion; t = \" +str(scipy.stats.t.ppf(q=.95,df=sizeA+sizeB)))\n",
    "    plt.legend()\n",
    "    \n",
    "style = {'description_width': 'initial'}    \n",
    "int_widget = interactive(SamplingDist,meanA=widgets.FloatSlider(value=70,min=1,max=100,step=0.1, description = \"Mean A\",readout_format='.1f',style = style),\n",
    "                            meanB=widgets.FloatSlider(value=70,min=1,max=100,step=0.1, description = \"Mean B\",readout_format='.1f',style = style),\n",
    "                            stdA=widgets.FloatSlider(value=10,min=10,max=60,step=1, description = \"Standard Deviation A\",readout_format='d',style = style),\n",
    "                            stdB=widgets.FloatSlider(value=10,min=10,max=60,step=1, description = \"Standard Deviation B\",readout_format='d',style = style),\n",
    "                            sizeA=widgets.IntSlider(value=12,min=3,max=100,step=1, description = \"Sample Size A\",readout_format='d',style = style),\n",
    "                            sizeB=widgets.IntSlider(value=12,min=3,max=100,step=1, description = \"Sample Size B\",readout_format='d',style = style))\n",
    "\n",
    "int_widget.children[0].layout = Layout(width='450px')\n",
    "int_widget.children[1].layout = Layout(width='450px')\n",
    "int_widget.children[2].layout = Layout(width='450px', font_size='24')\n",
    "int_widget.children[3].layout = Layout(width='450px', font_size='24')\n",
    "int_widget.children[4].layout = Layout(width='450px', font_size='24')\n",
    "int_widget.children[5].layout = Layout(width='450px', font_size='24')\n",
    "\n",
    "int_widget.children[0].style.handle_color = 'brown'\n",
    "int_widget.children[1].style.handle_color = 'brown'\n",
    "int_widget.children[2].style.handle_color = 'brown' \n",
    "int_widget.children[3].style.handle_color = 'silver' \n",
    "int_widget.children[4].style.handle_color = 'silver' \n",
    "int_widget.children[5].style.handle_color = 'silver' \n",
    "\n",
    "\n",
    "display(int_widget)\n",
    "\n",
    "\n"
   ]
  },
  {
   "cell_type": "code",
   "execution_count": null,
   "id": "de79c123-d346-4b47-a3b6-435e024f2045",
   "metadata": {},
   "outputs": [],
   "source": []
  }
 ],
 "metadata": {
  "kernelspec": {
   "display_name": "Python 3 (ipykernel)",
   "language": "python",
   "name": "python3"
  },
  "language_info": {
   "codemirror_mode": {
    "name": "ipython",
    "version": 3
   },
   "file_extension": ".py",
   "mimetype": "text/x-python",
   "name": "python",
   "nbconvert_exporter": "python",
   "pygments_lexer": "ipython3",
   "version": "3.7.12"
  }
 },
 "nbformat": 4,
 "nbformat_minor": 5
}

{
 "cells": [
  {
   "cell_type": "code",
   "execution_count": 13,
   "id": "56e8fe35-013b-4ea0-aa39-bcef50e26562",
   "metadata": {},
   "outputs": [
    {
     "data": {
      "application/vnd.jupyter.widget-view+json": {
       "model_id": "3b270b1360194fec9b74729bd96e1791",
       "version_major": 2,
       "version_minor": 0
      },
      "text/plain": [
       "interactive(children=(FloatSlider(value=0.05, description='Defined alpha', layout=Layout(width='600px'), max=0…"
      ]
     },
     "metadata": {},
     "output_type": "display_data"
    }
   ],
   "source": [
    "# nbi:hide_in \n",
    "import pandas as pd\n",
    "import seaborn as sns\n",
    "import numpy as np\n",
    "import matplotlib.pyplot as plt\n",
    "from ipywidgets import interact, interactive, fixed, interact_manual, Layout, interactive_output, HBox\n",
    "import ipywidgets as widgets\n",
    "import random\n",
    "from random import choices\n",
    "from scipy import stats\n",
    "from IPython.display import HTML\n",
    "from scipy.stats import norm\n",
    "import scipy.stats\n",
    "import math\n",
    "import warnings\n",
    "warnings.filterwarnings(\"ignore\")\n",
    "\n",
    "sns.set(font=\"serif\", style = \"white\")\n",
    "\n",
    "def SamplingDist(alpha = 0.05):\n",
    "    tdist =  np.zeros(1000)\n",
    "    pval = np.zeros(1000)\n",
    "    dist = list(range(1,61))\n",
    "    for i in range(1000):\n",
    "        rsa = random.choices(dist, k=1)\n",
    "        tdist[i] = np.mean(rsa)\n",
    "        pval[i] = 1 - (1-alpha)**tdist[i]\n",
    "\n",
    "    plt.figure(figsize=(12,8))\n",
    "    plt.axhline(y = 0.05, xmin = 0, xmax = 70, color = \"navy\", lw = 4, alpha = 0.4, label = \"Criterion of 0.05\")\n",
    "    plt.scatter(tdist,pval,c=tdist, cmap = \"pink\", s=pval*200)\n",
    "    plt.xticks(np.arange(0,60, step=2), fontsize = 12)     \n",
    "    plt.yticks(np.arange(-0.1,1.2, step=0.05), fontsize = 12)\n",
    "    plt.xlim(-1,61)     \n",
    "    plt.ylim(0,1)\n",
    "    plt.ylabel(\"The Criterion de Facto\", fontsize = 18)\n",
    "    plt.xlabel(\"Number of Comparisons\", fontsize = 18)\n",
    "    plt.title(\"Family-WISE Error Rate\", color = \"lightcoral\", fontsize = 24)\n",
    "    \n",
    "style = {'description_width': 'initial'}    \n",
    "int_widget = interactive(SamplingDist,alpha=widgets.FloatSlider(value=0.05,min=0.001,max=0.05,step=0.001, description = \"Defined alpha\",readout_format='.3f',style = style))\n",
    "int_widget.children[0].layout = Layout(width='600px')\n",
    "int_widget.children[0].style.handle_color = 'brown'\n",
    "\n",
    "\n",
    "display(int_widget)\n",
    "\n",
    "\n"
   ]
  },
  {
   "cell_type": "code",
   "execution_count": null,
   "id": "6a3375da-7d66-40d4-b53a-bbd47fac7275",
   "metadata": {},
   "outputs": [],
   "source": []
  }
 ],
 "metadata": {
  "kernelspec": {
   "display_name": "Python 3 (ipykernel)",
   "language": "python",
   "name": "python3"
  },
  "language_info": {
   "codemirror_mode": {
    "name": "ipython",
    "version": 3
   },
   "file_extension": ".py",
   "mimetype": "text/x-python",
   "name": "python",
   "nbconvert_exporter": "python",
   "pygments_lexer": "ipython3",
   "version": "3.9.7"
  }
 },
 "nbformat": 4,
 "nbformat_minor": 5
}

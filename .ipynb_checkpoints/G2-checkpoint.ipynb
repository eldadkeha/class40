{
 "cells": [
  {
   "cell_type": "code",
   "execution_count": 3,
   "id": "d998b2ea-2918-470e-bc09-21b021b5bb67",
   "metadata": {},
   "outputs": [
    {
     "data": {
      "application/vnd.jupyter.widget-view+json": {
       "model_id": "1c49fb47766f4f54846e98277fb80e5d",
       "version_major": 2,
       "version_minor": 0
      },
      "text/plain": [
       "interactive(children=(FloatSlider(value=0.61, description='Mean BOLD Change Good', layout=Layout(width='700px'…"
      ]
     },
     "metadata": {},
     "output_type": "display_data"
    }
   ],
   "source": [
    "# nbi:hide_in \n",
    "import pandas as pd\n",
    "import seaborn as sns\n",
    "import numpy as np\n",
    "import matplotlib.pyplot as plt\n",
    "from ipywidgets import interact, interactive, fixed, interact_manual, Layout, interactive_output, HBox\n",
    "import ipywidgets as widgets\n",
    "import random\n",
    "from random import choices\n",
    "from scipy import stats\n",
    "from IPython.display import HTML\n",
    "from scipy.stats import norm\n",
    "import math\n",
    "import pylab \n",
    "\n",
    "def SamplingDist(meanA = 0.61,stdA = 0.070, meanB = 0.51, stdB = 0.050):\n",
    "    np.random.seed(4)\n",
    "    meanFTNA = np.zeros(10000)\n",
    "    meanFTNB = np.zeros(10000)\n",
    "    meanFTNC = np.zeros(10000)\n",
    "    distA = np.random.normal(meanA+0.01, stdA, 12)\n",
    "    distB = np.random.normal(meanB, stdB, 12)\n",
    "    dist1 = np.random.normal(meanA, stdA, 10000)\n",
    "    dist2 = np.random.normal(meanB, stdB, 10000)\n",
    "    for i in range(10000):\n",
    "        rsa = random.choices(dist1, k=12)\n",
    "        meanFTNA[i]=np.mean(rsa)\n",
    "        rsb = random.choices(dist2, k=12)\n",
    "        meanFTNB[i]=np.mean(rsb)\n",
    "        meanFTNC[i] =  meanFTNA[i] -  meanFTNB[i]\n",
    "    \n",
    "    plt.rcParams['axes.facecolor'] = 'white'\n",
    "    plt.figure(figsize=(8,8))\n",
    "    plt.axvline(x = 1.5, color='white', linestyle='-', linewidth = 4, label = \"Mean GOOD =  \" + str(np.round(np.mean(distA), decimals = 2)));\n",
    "    plt.axvline(x = 1.5, color='white', linestyle='-', linewidth = 4, label = \"Mean BAD =  \" + str(np.round(np.mean(distB), decimals = 2)));\n",
    "    plt.grid(color='silver', linestyle='-', linewidth=0.2)\n",
    "    plt.xticks(fontsize = 18)\n",
    "    plt.yticks(np.arange(0,1, step = 0.02),fontsize = 14)\n",
    "    plt.ylabel(\"BOLD signal change\" '\\n' \"In the Pre-Central Gyrus\", color = \"sienna\", fontsize = 20, labelpad = 15)\n",
    "    plt.legend(fontsize = 16)\n",
    "    \n",
    "    data = pd.DataFrame({'Low SSRT''\\n' '(Good inhibition)': distA, 'High SSRT' '\\n''(Good inhibition)': distB})\n",
    "    data.boxplot(boxprops=dict(color=\"tan\", lw = 5), widths = 0.30, meanline = True, whiskerprops=dict(color = \"tan\", linewidth = 4), capprops=dict(color = \"tan\",lw = 4), medianprops=dict(lw=4, color = \"darksalmon\"))\n",
    "    for i, d in enumerate(data):\n",
    "        y = data[d]\n",
    "        x = np.random.normal(i + 1, 0.04, len(y))\n",
    "        plt.scatter(x, y, c=y,cmap='copper', s = 60)\n",
    "    plt.show()    \n",
    "    \n",
    "\n",
    "    #plt.figure(figsize=(10,6))\n",
    "    #plt.boxplot([distA,distB], boxprops=dict(color=\"tan\", lw = 3), labels=['Low SSRT''\\n' '(Good inhibition)','High SSRT' '\\n''(Good inhibition)'])\n",
    "    #plt.yticks(fontsize = 12, color = \"tan\")\n",
    "    #plt.xticks(fontsize = 24, color = \"black\")\n",
    "\n",
    "\n",
    "style = {'description_width': 'initial'}    \n",
    "int_widget = interactive(SamplingDist,meanA=widgets.FloatSlider(value=0.61,min=0,max=1,step=0.01, description = \"Mean BOLD Change Good\",readout_format='.2f',style = style),\n",
    "                            meanB=widgets.FloatSlider(value=0.51,min=0,max=1,step=0.01, description = \"Mean Bold Change Bad\",readout_format='.2f',style = style),\n",
    "                            stdA=widgets.FloatSlider(value=0.07,min=0.01,max=0.3,step=0.01, description = \"Standard Deviation Good\",readout_format='.2f',style = style),\n",
    "                            stdB=widgets.FloatSlider(value=0.05,min=0.01,max=0.3,step=0.01, description = \"Standard Deviation Bad\",readout_format='.2f',style = style))\n",
    "\n",
    "int_widget.children[0].layout = Layout(width='700px')\n",
    "int_widget.children[1].layout = Layout(width='700px')\n",
    "int_widget.children[2].layout = Layout(width='700px', font_size='24')\n",
    "int_widget.children[3].layout = Layout(width='700px', font_size='24')\n",
    "\n",
    "\n",
    "int_widget.children[0].style.handle_color = 'tan'\n",
    "int_widget.children[1].style.handle_color = 'tan'\n",
    "int_widget.children[2].style.handle_color = 'silver' \n",
    "int_widget.children[3].style.handle_color = 'silver' \n",
    "\n",
    "display(int_widget)\n",
    "\n",
    "\n",
    "\n"
   ]
  },
  {
   "cell_type": "code",
   "execution_count": null,
   "id": "b99f78f7-12f8-4116-ace2-3861045389b1",
   "metadata": {},
   "outputs": [],
   "source": []
  }
 ],
 "metadata": {
  "kernelspec": {
   "display_name": "Python 3 (ipykernel)",
   "language": "python",
   "name": "python3"
  },
  "language_info": {
   "codemirror_mode": {
    "name": "ipython",
    "version": 3
   },
   "file_extension": ".py",
   "mimetype": "text/x-python",
   "name": "python",
   "nbconvert_exporter": "python",
   "pygments_lexer": "ipython3",
   "version": "3.9.7"
  }
 },
 "nbformat": 4,
 "nbformat_minor": 5
}

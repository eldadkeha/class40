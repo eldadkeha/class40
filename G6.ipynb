{
 "cells": [
  {
   "cell_type": "code",
   "execution_count": 1,
   "id": "b8e0238d-1158-4df0-b551-4934d5234c0f",
   "metadata": {},
   "outputs": [
    {
     "data": {
      "application/vnd.jupyter.widget-view+json": {
       "model_id": "ff4cc9b1b96242f3aea7da25d7dae82b",
       "version_major": 2,
       "version_minor": 0
      },
      "text/plain": [
       "interactive(children=(FloatSlider(value=70.0, description='Mean Group 1', layout=Layout(width='600px'), min=1.…"
      ]
     },
     "metadata": {},
     "output_type": "display_data"
    }
   ],
   "source": [
    "# nbi:hide_in \n",
    "import pandas as pd\n",
    "import seaborn as sns\n",
    "import numpy as np\n",
    "import matplotlib.pyplot as plt\n",
    "from ipywidgets import interact, interactive, fixed, interact_manual, Layout, interactive_output, HBox\n",
    "import ipywidgets as widgets\n",
    "import random\n",
    "from random import choices\n",
    "from scipy import stats\n",
    "from IPython.display import HTML\n",
    "from scipy.stats import norm\n",
    "import scipy.stats\n",
    "import math\n",
    "\n",
    "sns.set(font=\"serif\", style = \"white\")\n",
    "\n",
    "def SamplingDist(meanA = 70, meanB = 70, sampsize = 12):\n",
    "    stdA = 10\n",
    "    stdB=10\n",
    "    np.random.seed(5)\n",
    "    tdist =  np.zeros(100)\n",
    "    pval = np.zeros(100)\n",
    "    effectsize = np.zeros(100)\n",
    "    dist1 = np.random.normal(meanA, stdA, 10000)\n",
    "    dist2 = np.random.normal(meanB, stdB, 10000)\n",
    "    for i in range(100):\n",
    "        rsa = random.choices(dist1, k=sampsize)\n",
    "        rsb = random.choices(dist2, k=sampsize)\n",
    "        tdist[i] = ((np.mean(rsa)-np.mean(rsb))) / ((math.sqrt(((np.var(rsa) * (sampsize)) + ((np.var(rsb)) * ((sampsize)))) / (( sampsize + sampsize - 2)))) * (math.sqrt((sampsize+sampsize)/(sampsize*sampsize))))\n",
    "        pval[i] = scipy.stats.t.sf(abs(tdist[i]), df=(sampsize+sampsize-2))*2\n",
    "        effectsize[i] = abs(((np.mean(rsa)-np.mean(rsb))) / ((math.sqrt(((np.var(rsa) * (sampsize)) + ((np.var(rsb)) * ((sampsize)))) / ((sampsize + sampsize - 2))))))\n",
    "        typeI = np.percentile(tdist,100-0.05*100)\n",
    "    \n",
    "    data = pd.DataFrame({'pval':pval, 'effectsize': effectsize})\n",
    "    Null = len(data[(data.effectsize>0) & (data.effectsize<0.2)])\n",
    "    Weak = len(data[(data.effectsize>0.2) & (data.effectsize<0.5)])\n",
    "    Medium = len(data[(data.effectsize>0.5) & (data.effectsize<0.8)])\n",
    "    Large = len(data[(data.effectsize>0.8) & (data.effectsize<2)])\n",
    "    meanES = (np.mean(effectsize))\n",
    "    plt.figure(figsize=(12,10))\n",
    "    y = np.arange(0, 0.06, 0.01)\n",
    "    y1 = np.arange(0, 1.1, 0.01)\n",
    "    plt.plot(effectsize, pval, 'o', color='darksalmon', alpha = 0.6);\n",
    "    plt.xticks(np.arange(0,np.amax(effectsize)+0.1, step=0.1), fontsize = 14)     \n",
    "    plt.yticks(np.arange(0,1.1, step=0.1), fontsize = 14)\n",
    "    plt.ylim(0,1.1)\n",
    "    plt.ylabel(\"P-value\", fontsize = 22)\n",
    "    plt.xlabel(\"Effect Size\", fontsize = 22, color = \"firebrick\")\n",
    "    plt.axvline(x=meanES, ymin=0,ymax=1.1, color='gray', lw = 4, linestyle='--', label = \"Mean Effect Size\");\n",
    "    plt.axhline(y=0.05, xmin=0,xmax=np.amax(effectsize), color='tan', linestyle='--');\n",
    "    plt.text(0.35,0.7, str(Weak)+\"%\" ,horizontalalignment='center', size = 20, color = \"brown\", bbox=dict(facecolor='brown', alpha=0.3));\n",
    "    plt.text(0.65,0.7, str(Medium)+\"%\" ,horizontalalignment='center', size = 22, color = \"goldenrod\", bbox=dict(facecolor='gold', alpha=0.3));\n",
    "    plt.text((0.8+np.amax(effectsize))/2,0.7, str(Large)+\"%\" ,horizontalalignment='center', size = 22, color = \"orange\", bbox=dict(facecolor='tan', alpha=0.3));\n",
    "    plt.fill_betweenx(y, 0, np.amax(effectsize)+0.05, facecolor='tan',alpha = 0.6, label= \"Significance Area\")\n",
    "    plt.fill_betweenx(y1, 0.2, 0.5, facecolor='lightcoral',alpha = 0.1, label= \"Weak Effect\")\n",
    "    plt.fill_betweenx(y1, 0.5, 0.8, facecolor='yellow',alpha = 0.2, label= \"Medium Effect\")\n",
    "    plt.fill_betweenx(y1, 0.8,np.amax(effectsize)+0.05 , facecolor='orange',alpha = 0.3, label= \"Strong Effect\")\n",
    "    plt.title(\"ES and Pvalues for 100 Random Independent samples t-tests\", fontsize = 20)\n",
    "    plt.legend(fontsize = 18)\n",
    "    \n",
    "    \n",
    "style = {'description_width': 'initial'}    \n",
    "int_widget = interactive(SamplingDist,meanA=widgets.FloatSlider(value=70,min=1,max=100,step=0.1, description = \"Mean Group 1\",readout_format='.1f',style = style),\n",
    "                            meanB=widgets.FloatSlider(value=70,min=1,max=100,step=0.1, description = \"Mean Group 2\",readout_format='.1f',style = style),\n",
    "                            sampsize=widgets.IntSlider(value=10,min=1,max=1000,step=5, description = \"Sample Size\",readout_format='d',style = style))\n",
    "\n",
    "int_widget.children[0].layout = Layout(width='600px')\n",
    "int_widget.children[1].layout = Layout(width='600px')\n",
    "int_widget.children[2].layout = Layout(width='600px')\n",
    "\n",
    "int_widget.children[0].style.handle_color = 'tan'\n",
    "int_widget.children[1].style.handle_color = 'tan'\n",
    "int_widget.children[2].style.handle_color = 'firebrick' \n",
    "\n",
    "\n",
    "\n",
    "display(int_widget)\n",
    "\n",
    "\n"
   ]
  },
  {
   "cell_type": "code",
   "execution_count": null,
   "id": "e452e6f8-6040-49b5-b880-d717a9ec0a95",
   "metadata": {},
   "outputs": [],
   "source": []
  }
 ],
 "metadata": {
  "kernelspec": {
   "display_name": "Python 3 (ipykernel)",
   "language": "python",
   "name": "python3"
  },
  "language_info": {
   "codemirror_mode": {
    "name": "ipython",
    "version": 3
   },
   "file_extension": ".py",
   "mimetype": "text/x-python",
   "name": "python",
   "nbconvert_exporter": "python",
   "pygments_lexer": "ipython3",
   "version": "3.7.12"
  }
 },
 "nbformat": 4,
 "nbformat_minor": 5
}
